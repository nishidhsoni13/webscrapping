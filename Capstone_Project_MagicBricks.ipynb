{
  "nbformat": 4,
  "nbformat_minor": 0,
  "metadata": {
    "colab": {
      "name": "Capstone_Project_MagicBricks.ipynb",
      "provenance": []
    },
    "kernelspec": {
      "name": "python3",
      "display_name": "Python 3"
    }
  },
  "cells": [
    {
      "cell_type": "markdown",
      "metadata": {
        "id": "VlcHOtxn7xxi"
      },
      "source": [
        "**Web Scraping of MagicBricks (Property Dealing Site)**\n",
        "\n",
        "---\n",
        "\n"
      ]
    },
    {
      "cell_type": "code",
      "metadata": {
        "colab": {
          "base_uri": "https://localhost:8080/"
        },
        "id": "ZUrE7M6N7hSz",
        "outputId": "10f8b116-e082-464a-a8e8-e56818276e46"
      },
      "source": [
        "## Required imports\n",
        "\n",
        "! pip install fake_useragent\n",
        "from fake_useragent import UserAgent\n",
        "import pandas as pd\n",
        "import bs4\n",
        "import requests\n",
        "import re\n",
        "import numpy as np\n",
        "import pandas as pd\n",
        "import seaborn as sns\n",
        "import matplotlib.pyplot as plt\n",
        "from scipy import stats"
      ],
      "execution_count": null,
      "outputs": [
        {
          "output_type": "stream",
          "text": [
            "Collecting fake_useragent\n",
            "  Downloading https://files.pythonhosted.org/packages/d1/79/af647635d6968e2deb57a208d309f6069d31cb138066d7e821e575112a80/fake-useragent-0.1.11.tar.gz\n",
            "Building wheels for collected packages: fake-useragent\n",
            "  Building wheel for fake-useragent (setup.py) ... \u001b[?25l\u001b[?25hdone\n",
            "  Created wheel for fake-useragent: filename=fake_useragent-0.1.11-cp37-none-any.whl size=13485 sha256=56d533913043894db81516aff1f62fc97b26d7ef98e9c837f0349df72fe4e547\n",
            "  Stored in directory: /root/.cache/pip/wheels/5e/63/09/d1dc15179f175357d3f5c00cbffbac37f9e8690d80545143ff\n",
            "Successfully built fake-useragent\n",
            "Installing collected packages: fake-useragent\n",
            "Successfully installed fake-useragent-0.1.11\n"
          ],
          "name": "stdout"
        }
      ]
    },
    {
      "cell_type": "code",
      "metadata": {
        "id": "w6HJQw6R8PEK"
      },
      "source": [
        "## Variable Intialization & empty data frame creation\n",
        "\n",
        "df = pd.DataFrame()\n",
        "price = []\n",
        "overview = []\n",
        "bhk = []\n",
        "locality = []\n",
        "builder = []\n",
        "summary = []\n",
        "area = []\n",
        "status= []\n",
        "floor = []\n",
        "transaction = []\n",
        "furnishing = []\n",
        "facing = []\n",
        "overlooking = []\n",
        "society = []\n",
        "car_parking = []\n",
        "bathroom = []\n",
        "balcony = []\n",
        "ownership = []\n",
        "property_details_temp = []\n",
        "property_details = ['carpet area','status','floor','transaction','furnishing','facing','overlooking','society','car parking','bathroom','balcony','ownership']"
      ],
      "execution_count": null,
      "outputs": []
    },
    {
      "cell_type": "code",
      "metadata": {
        "colab": {
          "base_uri": "https://localhost:8080/"
        },
        "id": "n0835CxnMeWL",
        "outputId": "84eb5c50-6266-4552-982d-a3cd4fa16070"
      },
      "source": [
        "def getBHK(bhk_t):\n",
        "    bhk= \"\" \n",
        "    bhkRegex = re.compile(r'\\d+\\s+')\n",
        "    property_bhk_search = bhkRegex.search(bhk_t)\n",
        "    if property_bhk_search:\n",
        "      bhk = property_bhk_search.group()\n",
        "    else:\n",
        "      bhk = 'Nan'\n",
        "   \n",
        "    return bhk\n",
        "\n",
        "print(getBHK(\"2 BHK Villa  for Sale in Malhaar Exotica, Sardar Patel Ring Road\"))"
      ],
      "execution_count": null,
      "outputs": [
        {
          "output_type": "stream",
          "text": [
            "2 \n"
          ],
          "name": "stdout"
        }
      ]
    },
    {
      "cell_type": "code",
      "metadata": {
        "colab": {
          "base_uri": "https://localhost:8080/"
        },
        "id": "wlNbRU02NuO7",
        "outputId": "b04b391a-5a6f-47c1-832f-995a33be1963"
      },
      "source": [
        "def getLocality(locality_t):\n",
        "    locality= \"\" \n",
        "    localityRegex = re.compile(r'Sale in(.*)$')\n",
        "    property_locality_search = localityRegex.search(locality_t)\n",
        "    if property_locality_search:\n",
        "      locality = property_locality_search.group(1)\n",
        "    else:\n",
        "      locality = 'Nan'\n",
        "   \n",
        "    return locality\n",
        "\n",
        "print(getLocality(\"2 BHK Villa for Sale in Malhaar Exotica, Sardar Patel Ring Road\"))"
      ],
      "execution_count": null,
      "outputs": [
        {
          "output_type": "stream",
          "text": [
            " Malhaar Exotica, Sardar Patel Ring Road\n"
          ],
          "name": "stdout"
        }
      ]
    },
    {
      "cell_type": "code",
      "metadata": {
        "colab": {
          "base_uri": "https://localhost:8080/"
        },
        "id": "rIgfcT3pRFz3",
        "outputId": "591b04df-c627-4b02-c0c9-4f118ee8f956"
      },
      "source": [
        "def getBrand(brand_t):\n",
        "    brand = \"\" \n",
        "    brandRegex = re.compile(r'\\w+\\s')\n",
        "    brand_search = brandRegex.search(brand_t)\n",
        "    if brand_search:\n",
        "      brand = brand_search.group()\n",
        "    else:\n",
        "      brand = 'Nan'\n",
        "   \n",
        "    return brand\n",
        "\n",
        "print(getBrand(\"Apple Watch Series 3 GPS - 42 mm Space Grey Aluminium Case with Black Sport Band  (Black Strap, Regular)\"))"
      ],
      "execution_count": null,
      "outputs": [
        {
          "output_type": "stream",
          "text": [
            "Apple \n"
          ],
          "name": "stdout"
        }
      ]
    },
    {
      "cell_type": "code",
      "metadata": {
        "colab": {
          "base_uri": "https://localhost:8080/"
        },
        "id": "-KibscwNTOm3",
        "outputId": "0fae6c58-1318-4b53-8d4c-5e1b8cdb9506"
      },
      "source": [
        "def getSize(Size_t):\n",
        "    size = \"\" \n",
        "    sizeRegex = re.compile(r'(\\d+\\s)mm')\n",
        "    brand_search = sizeRegex.search(Size_t)\n",
        "    if brand_search:\n",
        "      size = brand_search.group()\n",
        "    else:\n",
        "      size = 'Nan'\n",
        "   \n",
        "    return size\n",
        "\n",
        "print(getSize(\"Apple Watch Series 33 GPS - 42 mm Space Grey Aluminium Case with Black Sport Band  (Black Strap, Regular)\"))"
      ],
      "execution_count": null,
      "outputs": [
        {
          "output_type": "stream",
          "text": [
            "42 mm\n"
          ],
          "name": "stdout"
        }
      ]
    },
    {
      "cell_type": "code",
      "metadata": {
        "colab": {
          "base_uri": "https://localhost:8080/"
        },
        "id": "juTqY7sjbQMH",
        "outputId": "634b145a-f3ed-41d3-d0ee-c70b606a6851"
      },
      "source": [
        "def getPrice(price_t):\n",
        "    price= \"\" \n",
        "    priceRegex = re.compile(r'\\s\\d.+')\n",
        "    price_search = priceRegex.search(price_t)\n",
        "    if price_search:\n",
        "      price = price_search.group()\n",
        "      if 'Cr' in price:\n",
        "        price_temp = price.replace(\"Cr\", \"\")\n",
        "        price = float(price_temp) * 100\n",
        "      elif 'Lac' in price:\n",
        "        price_temp = price.replace(\"Lac\", \"\")\n",
        "        price = float(price_temp)\n",
        "    else:\n",
        "      price = '0'\n",
        "   \n",
        "    return price\n",
        "\n",
        "print(getPrice(\"₹ 61.5 Lac\"))"
      ],
      "execution_count": null,
      "outputs": [
        {
          "output_type": "stream",
          "text": [
            "61.5\n"
          ],
          "name": "stdout"
        }
      ]
    },
    {
      "cell_type": "code",
      "metadata": {
        "id": "_VYFhFBsLG_u",
        "colab": {
          "base_uri": "https://localhost:8080/",
          "height": 414
        },
        "outputId": "118236fe-18cf-48ec-9890-cdc3dfddbf49"
      },
      "source": [
        "## Actual Logic\n",
        "headers = {'User-Agent': 'Mozilla/5.0 (Macintosh; Intel Mac OS X 10_10_1) AppleWebKit/537.36 (KHTML, like Gecko) Chrome/39.0.2171.95 Safari/537.36'}\n",
        "user_agent = UserAgent()\n",
        "count = 0\n",
        "\n",
        "for i in range(1,6):\n",
        "  url = \"https://www.magicbricks.com/property-for-sale/residential-real-estate?bedroom=1,2,3&proptype=Multistorey-Apartment,Builder-Floor-Apartment,Penthouse,Studio-Apartment,Residential-House,Villa,Residential-Plot&cityName=Ahmedabad\".format(i);\n",
        "  r = requests.get(url, headers=headers)\n",
        "  soup = bs4.BeautifulSoup(r.content, features='lxml')\n",
        "  for properties in soup.findAll('div',{'class':'flex relative clearfix m-srp-card__container '}):\n",
        "\n",
        "    property_price = properties.find('div',attrs={'class':'m-srp-card__price'})\n",
        "    price.append(getPrice(property_price.text.replace(\"[\",\"\").replace(\"]\",\"\").strip()))\n",
        "\n",
        "    property_name_full = properties.find('span', attrs={'class':'m-srp-card__title'})\n",
        "    name_full = property_name_full.text.replace(\"\\n\", \"\").replace(\"\\t\",\"\").strip()\n",
        "\n",
        "    property_name = properties.find('span', attrs={'class':'m-srp-card__title__bhk'})\n",
        "    name = property_name.text.replace(\"\\n\", \"\").replace(\"\\t\",\"\").strip()\n",
        "    overview.append(name)\n",
        "\n",
        "    builder_name = properties.find('div', attrs={'class':'m-srp-card__advertiser__name'})\n",
        "    builder.append(builder_name.text.replace(\"[\",\"\").replace(\"]\",\"\").strip())\n",
        "   \n",
        "    bhk.append(getBHK(name))\n",
        "    \n",
        "    locality.append(getLocality(name_full))\n",
        "\n",
        "    for summary_item in properties.findAll('div', attrs={'class':'m-srp-card__summary js-collapse__content'}):\n",
        "\n",
        "      summary_titles = summary_item.findAll('div', attrs={'class':'m-srp-card__summary__title'})\n",
        "      summary_info = summary_item.findAll('div', attrs={'class':'m-srp-card__summary__info'})\n",
        "\n",
        "      for i in range(len(summary_titles)):\n",
        "        if i == 0:\n",
        "          property_details_temp = []\n",
        "\n",
        "        if 'carpet area' in summary_titles[i]:\n",
        "          area.append(summary_info[i].text.strip() + \" \" + summary_titles[i].text.strip())\n",
        "          property_details_temp.append('carpet area')\n",
        "        elif 'status' in summary_titles[i]:\n",
        "          status.append(summary_info[i].text.strip() + \" \" + summary_titles[i].text.strip().replace(\"status\",\"\"))\n",
        "          property_details_temp.append('status')\n",
        "        elif 'floor' in summary_titles[i]:\n",
        "          floor.append(summary_info[i].text.strip() + \" \" + summary_titles[i].text.strip())\n",
        "          property_details_temp.append('floor')\n",
        "        elif 'transaction' in summary_titles[i]:\n",
        "          transaction.append(summary_info[i].text.strip() + \" \" + summary_titles[i].text.strip().replace(\"transaction\",\"\"))\n",
        "          property_details_temp.append('transaction')\n",
        "        elif 'furnishing' in summary_titles[i]:\n",
        "          furnishing.append(summary_info[i].text.strip() + \" \" + summary_titles[i].text.strip().replace(\"furnishing\",\"\"))\n",
        "          property_details_temp.append('furnishing')\n",
        "        elif 'facing' in summary_titles[i]:\n",
        "          facing.append(summary_info[i].text.strip() + \" \" + summary_titles[i].text.strip().replace(\"facing\",\"\"))\n",
        "          property_details_temp.append('facing')\n",
        "        elif 'overlooking' in summary_titles[i]:\n",
        "          overlooking.append(summary_info[i].text.strip() + \" \" + summary_titles[i].text.strip().replace(\"overlooking\",\"\"))\n",
        "          property_details_temp.append('overlooking')\n",
        "        elif 'society' in summary_titles[i]:\n",
        "          society.append(summary_info[i].text.strip() + \" \" + summary_titles[i].text.strip().replace(\"society\",\"\"))\n",
        "          property_details_temp.append('society')\n",
        "        elif 'car parking' in summary_titles[i]:\n",
        "          car_parking.append(summary_info[i].text.strip() + \" \" + summary_titles[i].text.strip().replace(\"car parking\",\"\"))\n",
        "          property_details_temp.append('car parking')\n",
        "        elif 'bathroom' in summary_titles[i]:\n",
        "          bathroom.append(summary_info[i].text.strip() + \" \" + summary_titles[i].text.strip().replace(\"bathroom\",\"\"))\n",
        "          property_details_temp.append('bathroom')\n",
        "        elif 'balcony' in summary_titles[i]:\n",
        "          balcony.append(summary_info[i].text.strip() + \" \" + summary_titles[i].text.strip())\n",
        "          property_details_temp.append('balcony')\n",
        "        elif 'ownership' in summary_titles[i]:\n",
        "          ownership.append(summary_info[i].text.strip() + \" \" + summary_titles[i].text.strip().replace(\"ownership\",\"\"))\n",
        "          property_details_temp.append('ownership')\n",
        "\n",
        "        if i+1 == len(summary_titles):\n",
        "          remainingSummeries = list(set(property_details).difference(property_details_temp))\n",
        "          for remainingSummery in remainingSummeries :\n",
        "            if 'carpet area' in remainingSummery:\n",
        "              area.append('Nan')\n",
        "            elif 'status' in remainingSummery:\n",
        "              status.append('Nan')\n",
        "            elif 'floor' in remainingSummery:\n",
        "              floor.append('Nan')\n",
        "            elif 'transaction' in remainingSummery:\n",
        "              transaction.append('Nan')\n",
        "            elif 'furnishing' in remainingSummery:\n",
        "              furnishing.append('Nan')\n",
        "            elif 'facing' in remainingSummery:\n",
        "              facing.append('Nan')\n",
        "            elif 'overlooking' in remainingSummery:\n",
        "              overlooking.append('Nan')\n",
        "            elif 'society' in remainingSummery:\n",
        "              society.append('Nan')\n",
        "            elif 'car parking' in remainingSummery:\n",
        "              car_parking.append('Nan')\n",
        "            elif 'bathroom' in remainingSummery:\n",
        "              bathroom.append('Nan')\n",
        "            elif 'balcony' in remainingSummery:\n",
        "              balcony.append('Nan')\n",
        "            elif 'ownership' in remainingSummery:\n",
        "              ownership.append('Nan')\n",
        "\n",
        "    count = count + 1\n",
        "\n",
        "#print('Total Properties :', count)\n",
        "#print('Overview=',len(overview),'area=',len(area),'status=',len(status),'floor=',len(floor),'transaction=',len(transaction),'furnishing=',len(furnishing),'facing=',len(facing))\n",
        "#print('overlooking=',len(overlooking),'society=',len(society),'car_parking=',len(car_parking),'bathroom=',len(bathroom),'ownership=',len(ownership),'price=',len(price))\n",
        "df = pd.DataFrame({'Property Overview':overview,'Area':area,'BHK':bhk,'Locality':locality,'Status':status,'Floor':floor,'Transaction':transaction,'Furnishing':furnishing,'Facing':facing,\n",
        "                   'Overlooking':overlooking,'Society':society,'Car parking':car_parking,'Bathroom':bathroom,'Ownership':ownership,'Price(L)':price,'Builder':builder})\n",
        "\n",
        "df.head()\n"
      ],
      "execution_count": null,
      "outputs": [
        {
          "output_type": "execute_result",
          "data": {
            "text/html": [
              "<div>\n",
              "<style scoped>\n",
              "    .dataframe tbody tr th:only-of-type {\n",
              "        vertical-align: middle;\n",
              "    }\n",
              "\n",
              "    .dataframe tbody tr th {\n",
              "        vertical-align: top;\n",
              "    }\n",
              "\n",
              "    .dataframe thead th {\n",
              "        text-align: right;\n",
              "    }\n",
              "</style>\n",
              "<table border=\"1\" class=\"dataframe\">\n",
              "  <thead>\n",
              "    <tr style=\"text-align: right;\">\n",
              "      <th></th>\n",
              "      <th>Property Overview</th>\n",
              "      <th>Area</th>\n",
              "      <th>BHK</th>\n",
              "      <th>Locality</th>\n",
              "      <th>Status</th>\n",
              "      <th>Floor</th>\n",
              "      <th>Transaction</th>\n",
              "      <th>Furnishing</th>\n",
              "      <th>Facing</th>\n",
              "      <th>Overlooking</th>\n",
              "      <th>Society</th>\n",
              "      <th>Car parking</th>\n",
              "      <th>Bathroom</th>\n",
              "      <th>Ownership</th>\n",
              "      <th>Price(L)</th>\n",
              "      <th>Builder</th>\n",
              "    </tr>\n",
              "  </thead>\n",
              "  <tbody>\n",
              "    <tr>\n",
              "      <th>0</th>\n",
              "      <td>3 BHK Apartment</td>\n",
              "      <td>1783 sqft carpet area</td>\n",
              "      <td>3</td>\n",
              "      <td>Thaltej</td>\n",
              "      <td>Ready to Move</td>\n",
              "      <td>Nan</td>\n",
              "      <td>New Property</td>\n",
              "      <td>Unfurnished</td>\n",
              "      <td>East</td>\n",
              "      <td>Garden/Park, Pool, Main Road</td>\n",
              "      <td>Nan</td>\n",
              "      <td>2 Covered</td>\n",
              "      <td>3</td>\n",
              "      <td>Freehold</td>\n",
              "      <td>158.0</td>\n",
              "      <td>Heaven Space</td>\n",
              "    </tr>\n",
              "    <tr>\n",
              "      <th>1</th>\n",
              "      <td>3 BHK Apartment</td>\n",
              "      <td>1085 sqft carpet area</td>\n",
              "      <td>3</td>\n",
              "      <td>Jagatpur Village, Gota</td>\n",
              "      <td>Ready to Move</td>\n",
              "      <td>Nan</td>\n",
              "      <td>Resale</td>\n",
              "      <td>Unfurnished</td>\n",
              "      <td>North</td>\n",
              "      <td>Garden/Park, Pool, Main Road</td>\n",
              "      <td>Nan</td>\n",
              "      <td>1 Covered</td>\n",
              "      <td>3</td>\n",
              "      <td>Freehold</td>\n",
              "      <td>61.0</td>\n",
              "      <td>Metro Real Estate</td>\n",
              "    </tr>\n",
              "    <tr>\n",
              "      <th>2</th>\n",
              "      <td>2 BHK Apartment</td>\n",
              "      <td>650 sqft carpet area</td>\n",
              "      <td>2</td>\n",
              "      <td>Sky Sol,South Bopal, Bopal</td>\n",
              "      <td>Ready to Move</td>\n",
              "      <td>9 out of 13 floors floor</td>\n",
              "      <td>Resale</td>\n",
              "      <td>Furnished</td>\n",
              "      <td>East</td>\n",
              "      <td>Main Road</td>\n",
              "      <td>Sky Sol</td>\n",
              "      <td>1 Covered</td>\n",
              "      <td>2</td>\n",
              "      <td>Freehold</td>\n",
              "      <td>49.5</td>\n",
              "      <td>Resolute Property Solution</td>\n",
              "    </tr>\n",
              "    <tr>\n",
              "      <th>3</th>\n",
              "      <td>3 BHK Apartment</td>\n",
              "      <td>1209 sqft carpet area</td>\n",
              "      <td>3</td>\n",
              "      <td>Gota</td>\n",
              "      <td>Ready to Move</td>\n",
              "      <td>Nan</td>\n",
              "      <td>New Property</td>\n",
              "      <td>Unfurnished</td>\n",
              "      <td>East</td>\n",
              "      <td>Garden/Park, Pool, Main Road</td>\n",
              "      <td>Nan</td>\n",
              "      <td>1 Covered, 1 Open</td>\n",
              "      <td>3</td>\n",
              "      <td>Freehold</td>\n",
              "      <td>80.0</td>\n",
              "      <td>Vital Space Management Private Limited</td>\n",
              "    </tr>\n",
              "    <tr>\n",
              "      <th>4</th>\n",
              "      <td>3 BHK Apartment</td>\n",
              "      <td>1500 sqft carpet area</td>\n",
              "      <td>3</td>\n",
              "      <td>Indraprasth 5,Prahlad Nagar</td>\n",
              "      <td>Ready to Move</td>\n",
              "      <td>3 out of 5 floors floor</td>\n",
              "      <td>Resale</td>\n",
              "      <td>Unfurnished</td>\n",
              "      <td>East</td>\n",
              "      <td>Garden/Park</td>\n",
              "      <td>Indraprasth 5</td>\n",
              "      <td>1 Covered</td>\n",
              "      <td>3</td>\n",
              "      <td>Freehold</td>\n",
              "      <td>115.0</td>\n",
              "      <td>H2O Property Solutions</td>\n",
              "    </tr>\n",
              "  </tbody>\n",
              "</table>\n",
              "</div>"
            ],
            "text/plain": [
              "  Property Overview  ...                                 Builder\n",
              "0   3 BHK Apartment  ...                            Heaven Space\n",
              "1   3 BHK Apartment  ...                       Metro Real Estate\n",
              "2   2 BHK Apartment  ...              Resolute Property Solution\n",
              "3   3 BHK Apartment  ...  Vital Space Management Private Limited\n",
              "4   3 BHK Apartment  ...                  H2O Property Solutions\n",
              "\n",
              "[5 rows x 16 columns]"
            ]
          },
          "metadata": {
            "tags": []
          },
          "execution_count": 237
        }
      ]
    },
    {
      "cell_type": "code",
      "metadata": {
        "colab": {
          "base_uri": "https://localhost:8080/",
          "height": 400
        },
        "id": "wAVPa_3clNgJ",
        "outputId": "30970de2-5215-458f-ff56-b628cdd05280"
      },
      "source": [
        "df.tail()"
      ],
      "execution_count": null,
      "outputs": [
        {
          "output_type": "execute_result",
          "data": {
            "text/html": [
              "<div>\n",
              "<style scoped>\n",
              "    .dataframe tbody tr th:only-of-type {\n",
              "        vertical-align: middle;\n",
              "    }\n",
              "\n",
              "    .dataframe tbody tr th {\n",
              "        vertical-align: top;\n",
              "    }\n",
              "\n",
              "    .dataframe thead th {\n",
              "        text-align: right;\n",
              "    }\n",
              "</style>\n",
              "<table border=\"1\" class=\"dataframe\">\n",
              "  <thead>\n",
              "    <tr style=\"text-align: right;\">\n",
              "      <th></th>\n",
              "      <th>Property Overview</th>\n",
              "      <th>Area</th>\n",
              "      <th>BHK</th>\n",
              "      <th>Locality</th>\n",
              "      <th>Status</th>\n",
              "      <th>Floor</th>\n",
              "      <th>Transaction</th>\n",
              "      <th>Furnishing</th>\n",
              "      <th>Facing</th>\n",
              "      <th>Overlooking</th>\n",
              "      <th>Society</th>\n",
              "      <th>Car parking</th>\n",
              "      <th>Bathroom</th>\n",
              "      <th>Ownership</th>\n",
              "      <th>Price(L)</th>\n",
              "      <th>Builder</th>\n",
              "    </tr>\n",
              "  </thead>\n",
              "  <tbody>\n",
              "    <tr>\n",
              "      <th>145</th>\n",
              "      <td>1 BHK Villa</td>\n",
              "      <td>Nan</td>\n",
              "      <td>1</td>\n",
              "      <td>Malhaar Exotica,Sardar Patel Ring Road</td>\n",
              "      <td>Ready to Move</td>\n",
              "      <td>Nan</td>\n",
              "      <td>New Property</td>\n",
              "      <td>Unfurnished</td>\n",
              "      <td>Nan</td>\n",
              "      <td>Garden/Park, Pool, Main Road</td>\n",
              "      <td>Malhaar Exotica</td>\n",
              "      <td>1 Open</td>\n",
              "      <td>1</td>\n",
              "      <td>Freehold</td>\n",
              "      <td>24.0</td>\n",
              "      <td>Malhaar Exotica</td>\n",
              "    </tr>\n",
              "    <tr>\n",
              "      <th>146</th>\n",
              "      <td>3 BHK Apartment</td>\n",
              "      <td>Nan</td>\n",
              "      <td>3</td>\n",
              "      <td>Shilp Shaligram,Vastrapur</td>\n",
              "      <td>Possession by Jun '22</td>\n",
              "      <td>1 out of 10 floors floor</td>\n",
              "      <td>New Property</td>\n",
              "      <td>Unfurnished</td>\n",
              "      <td>Nan</td>\n",
              "      <td>Nan</td>\n",
              "      <td>Shilp Shaligram</td>\n",
              "      <td>Nan</td>\n",
              "      <td>3</td>\n",
              "      <td>Nan</td>\n",
              "      <td>121.0</td>\n",
              "      <td>Shilp Group</td>\n",
              "    </tr>\n",
              "    <tr>\n",
              "      <th>147</th>\n",
              "      <td>3 BHK Apartment</td>\n",
              "      <td>Nan</td>\n",
              "      <td>3</td>\n",
              "      <td>Rajvi Opal,Naranpura</td>\n",
              "      <td>Possession by Nov '21</td>\n",
              "      <td>Nan</td>\n",
              "      <td>New Property</td>\n",
              "      <td>Unfurnished</td>\n",
              "      <td>Nan</td>\n",
              "      <td>Nan</td>\n",
              "      <td>Rajvi Opal</td>\n",
              "      <td>2 Covered</td>\n",
              "      <td>3</td>\n",
              "      <td>Nan</td>\n",
              "      <td>108.0</td>\n",
              "      <td>Shivam Builders Pvt Ltd</td>\n",
              "    </tr>\n",
              "    <tr>\n",
              "      <th>148</th>\n",
              "      <td>3 BHK Apartment</td>\n",
              "      <td>Nan</td>\n",
              "      <td>3</td>\n",
              "      <td>Ekta Festival,Naranpura</td>\n",
              "      <td>Possession by Mar '22</td>\n",
              "      <td>Nan</td>\n",
              "      <td>New Property</td>\n",
              "      <td>Unfurnished</td>\n",
              "      <td>Nan</td>\n",
              "      <td>Nan</td>\n",
              "      <td>Ekta Festival</td>\n",
              "      <td>2 Covered</td>\n",
              "      <td>3</td>\n",
              "      <td>Nan</td>\n",
              "      <td>112.0</td>\n",
              "      <td>Anand Patel</td>\n",
              "    </tr>\n",
              "    <tr>\n",
              "      <th>149</th>\n",
              "      <td>3 BHK Apartment</td>\n",
              "      <td>1191 sqft carpet area</td>\n",
              "      <td>3</td>\n",
              "      <td>Polaris Celestia,Koteshwar</td>\n",
              "      <td>Possession by Jul '23</td>\n",
              "      <td>Nan</td>\n",
              "      <td>New Property</td>\n",
              "      <td>Unfurnished</td>\n",
              "      <td>Nan</td>\n",
              "      <td>Nan</td>\n",
              "      <td>Polaris Celestia</td>\n",
              "      <td>Nan</td>\n",
              "      <td>3</td>\n",
              "      <td>Nan</td>\n",
              "      <td>86.7</td>\n",
              "      <td>Polaris Group</td>\n",
              "    </tr>\n",
              "  </tbody>\n",
              "</table>\n",
              "</div>"
            ],
            "text/plain": [
              "    Property Overview                   Area  ... Price(L)                  Builder\n",
              "145       1 BHK Villa                    Nan  ...     24.0          Malhaar Exotica\n",
              "146   3 BHK Apartment                    Nan  ...    121.0              Shilp Group\n",
              "147   3 BHK Apartment                    Nan  ...    108.0  Shivam Builders Pvt Ltd\n",
              "148   3 BHK Apartment                    Nan  ...    112.0              Anand Patel\n",
              "149   3 BHK Apartment  1191 sqft carpet area  ...     86.7            Polaris Group\n",
              "\n",
              "[5 rows x 16 columns]"
            ]
          },
          "metadata": {
            "tags": []
          },
          "execution_count": 193
        }
      ]
    },
    {
      "cell_type": "code",
      "metadata": {
        "id": "mGlV9JH583dM"
      },
      "source": [
        "# Generate .csv file for scrapped data\n",
        "\n",
        "df.to_csv('property_ahmedabad.csv', index=False)"
      ],
      "execution_count": null,
      "outputs": []
    },
    {
      "cell_type": "code",
      "metadata": {
        "colab": {
          "base_uri": "https://localhost:8080/"
        },
        "id": "kZ8IZDyQZNy8",
        "outputId": "84c1ed62-a395-4f60-e46f-c1411a7ba0e0"
      },
      "source": [
        "# Data Cleaning\n",
        "\n",
        "#df.drop_duplicates()\n",
        "\n",
        "#df.reset_index()\n",
        "\n",
        "df.shape"
      ],
      "execution_count": null,
      "outputs": [
        {
          "output_type": "execute_result",
          "data": {
            "text/plain": [
              "(150, 16)"
            ]
          },
          "metadata": {
            "tags": []
          },
          "execution_count": 166
        }
      ]
    },
    {
      "cell_type": "code",
      "metadata": {
        "id": "rBuaROEeU8g4"
      },
      "source": [
        "df[\"Price(L)\"] = df[\"Price(L)\"].astype(float)\n",
        "df[\"Bathroom\"] = df[\"Bathroom\"].astype(int)"
      ],
      "execution_count": null,
      "outputs": []
    },
    {
      "cell_type": "code",
      "metadata": {
        "id": "JVUi-NuCJ8l1",
        "colab": {
          "base_uri": "https://localhost:8080/"
        },
        "outputId": "854dcff7-1739-45c6-9342-dea77d3dde56"
      },
      "source": [
        "## Getting information of all the columns\n",
        "\n",
        "df.info()"
      ],
      "execution_count": null,
      "outputs": [
        {
          "output_type": "stream",
          "text": [
            "<class 'pandas.core.frame.DataFrame'>\n",
            "RangeIndex: 150 entries, 0 to 149\n",
            "Data columns (total 16 columns):\n",
            " #   Column             Non-Null Count  Dtype  \n",
            "---  ------             --------------  -----  \n",
            " 0   Property Overview  150 non-null    object \n",
            " 1   Area               150 non-null    object \n",
            " 2   BHK                150 non-null    object \n",
            " 3   Locality           150 non-null    object \n",
            " 4   Status             150 non-null    object \n",
            " 5   Floor              150 non-null    object \n",
            " 6   Transaction        150 non-null    object \n",
            " 7   Furnishing         150 non-null    object \n",
            " 8   Facing             150 non-null    object \n",
            " 9   Overlooking        150 non-null    object \n",
            " 10  Society            150 non-null    object \n",
            " 11  Car parking        150 non-null    object \n",
            " 12  Bathroom           150 non-null    int64  \n",
            " 13  Ownership          150 non-null    object \n",
            " 14  Price(L)           150 non-null    float64\n",
            " 15  Builder            150 non-null    object \n",
            "dtypes: float64(1), int64(1), object(14)\n",
            "memory usage: 18.9+ KB\n"
          ],
          "name": "stdout"
        }
      ]
    },
    {
      "cell_type": "code",
      "metadata": {
        "colab": {
          "base_uri": "https://localhost:8080/",
          "height": 286
        },
        "id": "Ktc7rRTMaW5d",
        "outputId": "945f11a9-7109-4ab7-cf44-f02e3d0ca8bb"
      },
      "source": [
        "df.describe()"
      ],
      "execution_count": null,
      "outputs": [
        {
          "output_type": "execute_result",
          "data": {
            "text/html": [
              "<div>\n",
              "<style scoped>\n",
              "    .dataframe tbody tr th:only-of-type {\n",
              "        vertical-align: middle;\n",
              "    }\n",
              "\n",
              "    .dataframe tbody tr th {\n",
              "        vertical-align: top;\n",
              "    }\n",
              "\n",
              "    .dataframe thead th {\n",
              "        text-align: right;\n",
              "    }\n",
              "</style>\n",
              "<table border=\"1\" class=\"dataframe\">\n",
              "  <thead>\n",
              "    <tr style=\"text-align: right;\">\n",
              "      <th></th>\n",
              "      <th>Bathroom</th>\n",
              "      <th>Price(L)</th>\n",
              "    </tr>\n",
              "  </thead>\n",
              "  <tbody>\n",
              "    <tr>\n",
              "      <th>count</th>\n",
              "      <td>150.000000</td>\n",
              "      <td>150.000000</td>\n",
              "    </tr>\n",
              "    <tr>\n",
              "      <th>mean</th>\n",
              "      <td>2.666667</td>\n",
              "      <td>110.766667</td>\n",
              "    </tr>\n",
              "    <tr>\n",
              "      <th>std</th>\n",
              "      <td>0.598282</td>\n",
              "      <td>95.247330</td>\n",
              "    </tr>\n",
              "    <tr>\n",
              "      <th>min</th>\n",
              "      <td>1.000000</td>\n",
              "      <td>13.500000</td>\n",
              "    </tr>\n",
              "    <tr>\n",
              "      <th>25%</th>\n",
              "      <td>2.000000</td>\n",
              "      <td>54.000000</td>\n",
              "    </tr>\n",
              "    <tr>\n",
              "      <th>50%</th>\n",
              "      <td>3.000000</td>\n",
              "      <td>95.500000</td>\n",
              "    </tr>\n",
              "    <tr>\n",
              "      <th>75%</th>\n",
              "      <td>3.000000</td>\n",
              "      <td>133.000000</td>\n",
              "    </tr>\n",
              "    <tr>\n",
              "      <th>max</th>\n",
              "      <td>3.000000</td>\n",
              "      <td>530.000000</td>\n",
              "    </tr>\n",
              "  </tbody>\n",
              "</table>\n",
              "</div>"
            ],
            "text/plain": [
              "         Bathroom    Price(L)\n",
              "count  150.000000  150.000000\n",
              "mean     2.666667  110.766667\n",
              "std      0.598282   95.247330\n",
              "min      1.000000   13.500000\n",
              "25%      2.000000   54.000000\n",
              "50%      3.000000   95.500000\n",
              "75%      3.000000  133.000000\n",
              "max      3.000000  530.000000"
            ]
          },
          "metadata": {
            "tags": []
          },
          "execution_count": 198
        }
      ]
    },
    {
      "cell_type": "code",
      "metadata": {
        "colab": {
          "base_uri": "https://localhost:8080/",
          "height": 297
        },
        "id": "x0x45QP2QVJZ",
        "outputId": "21cb72a0-f87b-4e9f-da7a-b2def3f32f0d"
      },
      "source": [
        "## Sorting based on price asceding\n",
        "\n",
        "df.sort_values(by='Price(L)', ascending=True).head()"
      ],
      "execution_count": null,
      "outputs": [
        {
          "output_type": "execute_result",
          "data": {
            "text/html": [
              "<div>\n",
              "<style scoped>\n",
              "    .dataframe tbody tr th:only-of-type {\n",
              "        vertical-align: middle;\n",
              "    }\n",
              "\n",
              "    .dataframe tbody tr th {\n",
              "        vertical-align: top;\n",
              "    }\n",
              "\n",
              "    .dataframe thead th {\n",
              "        text-align: right;\n",
              "    }\n",
              "</style>\n",
              "<table border=\"1\" class=\"dataframe\">\n",
              "  <thead>\n",
              "    <tr style=\"text-align: right;\">\n",
              "      <th></th>\n",
              "      <th>Property Overview</th>\n",
              "      <th>Area</th>\n",
              "      <th>BHK</th>\n",
              "      <th>Locality</th>\n",
              "      <th>Status</th>\n",
              "      <th>Floor</th>\n",
              "      <th>Transaction</th>\n",
              "      <th>Furnishing</th>\n",
              "      <th>Facing</th>\n",
              "      <th>Overlooking</th>\n",
              "      <th>Society</th>\n",
              "      <th>Car parking</th>\n",
              "      <th>Bathroom</th>\n",
              "      <th>Ownership</th>\n",
              "      <th>Price(L)</th>\n",
              "      <th>Builder</th>\n",
              "    </tr>\n",
              "  </thead>\n",
              "  <tbody>\n",
              "    <tr>\n",
              "      <th>82</th>\n",
              "      <td>1 BHK Apartment</td>\n",
              "      <td>Nan</td>\n",
              "      <td>1</td>\n",
              "      <td>Rashmi Vihar,Narolgam</td>\n",
              "      <td>Ready to Move</td>\n",
              "      <td>Nan</td>\n",
              "      <td>New Property</td>\n",
              "      <td>Unfurnished</td>\n",
              "      <td>Nan</td>\n",
              "      <td>Nan</td>\n",
              "      <td>Rashmi Vihar</td>\n",
              "      <td>Nan</td>\n",
              "      <td>1</td>\n",
              "      <td>Nan</td>\n",
              "      <td>13.5</td>\n",
              "      <td>Nitesh Vasava</td>\n",
              "    </tr>\n",
              "    <tr>\n",
              "      <th>22</th>\n",
              "      <td>1 BHK Apartment</td>\n",
              "      <td>Nan</td>\n",
              "      <td>1</td>\n",
              "      <td>Rashmi Vihar,Narolgam</td>\n",
              "      <td>Ready to Move</td>\n",
              "      <td>Nan</td>\n",
              "      <td>New Property</td>\n",
              "      <td>Unfurnished</td>\n",
              "      <td>Nan</td>\n",
              "      <td>Nan</td>\n",
              "      <td>Rashmi Vihar</td>\n",
              "      <td>Nan</td>\n",
              "      <td>1</td>\n",
              "      <td>Nan</td>\n",
              "      <td>13.5</td>\n",
              "      <td>Nitesh Vasava</td>\n",
              "    </tr>\n",
              "    <tr>\n",
              "      <th>142</th>\n",
              "      <td>1 BHK Apartment</td>\n",
              "      <td>Nan</td>\n",
              "      <td>1</td>\n",
              "      <td>Rashmi Vihar,Narolgam</td>\n",
              "      <td>Ready to Move</td>\n",
              "      <td>Nan</td>\n",
              "      <td>New Property</td>\n",
              "      <td>Unfurnished</td>\n",
              "      <td>Nan</td>\n",
              "      <td>Nan</td>\n",
              "      <td>Rashmi Vihar</td>\n",
              "      <td>Nan</td>\n",
              "      <td>1</td>\n",
              "      <td>Nan</td>\n",
              "      <td>13.5</td>\n",
              "      <td>Nitesh Vasava</td>\n",
              "    </tr>\n",
              "    <tr>\n",
              "      <th>52</th>\n",
              "      <td>1 BHK Apartment</td>\n",
              "      <td>Nan</td>\n",
              "      <td>1</td>\n",
              "      <td>Rashmi Vihar,Narolgam</td>\n",
              "      <td>Ready to Move</td>\n",
              "      <td>Nan</td>\n",
              "      <td>New Property</td>\n",
              "      <td>Unfurnished</td>\n",
              "      <td>Nan</td>\n",
              "      <td>Nan</td>\n",
              "      <td>Rashmi Vihar</td>\n",
              "      <td>Nan</td>\n",
              "      <td>1</td>\n",
              "      <td>Nan</td>\n",
              "      <td>13.5</td>\n",
              "      <td>Nitesh Vasava</td>\n",
              "    </tr>\n",
              "    <tr>\n",
              "      <th>112</th>\n",
              "      <td>1 BHK Apartment</td>\n",
              "      <td>Nan</td>\n",
              "      <td>1</td>\n",
              "      <td>Rashmi Vihar,Narolgam</td>\n",
              "      <td>Ready to Move</td>\n",
              "      <td>Nan</td>\n",
              "      <td>New Property</td>\n",
              "      <td>Unfurnished</td>\n",
              "      <td>Nan</td>\n",
              "      <td>Nan</td>\n",
              "      <td>Rashmi Vihar</td>\n",
              "      <td>Nan</td>\n",
              "      <td>1</td>\n",
              "      <td>Nan</td>\n",
              "      <td>13.5</td>\n",
              "      <td>Nitesh Vasava</td>\n",
              "    </tr>\n",
              "  </tbody>\n",
              "</table>\n",
              "</div>"
            ],
            "text/plain": [
              "    Property Overview Area BHK  ... Ownership Price(L)        Builder\n",
              "82    1 BHK Apartment  Nan  1   ...       Nan     13.5  Nitesh Vasava\n",
              "22    1 BHK Apartment  Nan  1   ...       Nan     13.5  Nitesh Vasava\n",
              "142   1 BHK Apartment  Nan  1   ...       Nan     13.5  Nitesh Vasava\n",
              "52    1 BHK Apartment  Nan  1   ...       Nan     13.5  Nitesh Vasava\n",
              "112   1 BHK Apartment  Nan  1   ...       Nan     13.5  Nitesh Vasava\n",
              "\n",
              "[5 rows x 16 columns]"
            ]
          },
          "metadata": {
            "tags": []
          },
          "execution_count": 199
        }
      ]
    },
    {
      "cell_type": "code",
      "metadata": {
        "colab": {
          "base_uri": "https://localhost:8080/"
        },
        "id": "3iKu9rl_NBNL",
        "outputId": "1f586aad-ddcf-42de-bf85-1bb94ef0a2b0"
      },
      "source": [
        "## Checks different counts of (Apartement/Villa) for (1/2/3) BHK\n",
        "\n",
        "df_property = df['Property Overview'].value_counts()\n",
        "df_property"
      ],
      "execution_count": null,
      "outputs": [
        {
          "output_type": "execute_result",
          "data": {
            "text/plain": [
              "3 BHK Apartment    105\n",
              "2 BHK Apartment     25\n",
              "3 BHK Villa         10\n",
              "1 BHK Villa          5\n",
              "1 BHK Apartment      5\n",
              "Name: Property Overview, dtype: int64"
            ]
          },
          "metadata": {
            "tags": []
          },
          "execution_count": 200
        }
      ]
    },
    {
      "cell_type": "code",
      "metadata": {
        "colab": {
          "base_uri": "https://localhost:8080/",
          "height": 342
        },
        "id": "Xc9aqI5HNUKj",
        "outputId": "f350d4f9-dca7-49cc-e544-7d91d511f78e"
      },
      "source": [
        "# This bar plot above shows residential plots are the type of properties that are mostly found in Ahmedabad\n",
        "\n",
        "df_property.plot.bar();"
      ],
      "execution_count": null,
      "outputs": [
        {
          "output_type": "display_data",
          "data": {
            "image/png": "[encoded data removed]",
            "text/plain": [
              "<Figure size 432x288 with 1 Axes>"
            ]
          },
          "metadata": {
            "tags": []
          }
        }
      ]
    },
    {
      "cell_type": "code",
      "metadata": {
        "colab": {
          "base_uri": "https://localhost:8080/",
          "height": 279
        },
        "id": "rszu2Bi0OBLi",
        "outputId": "ae21c7a5-3bc5-4285-e741-46b2379ec28b"
      },
      "source": [
        "#The plot depicts that there 2 categories in Transaction which are New property transaction & Resale transaction\n",
        "\n",
        "sns.set_style('whitegrid')\n",
        "sns.countplot(x='Transaction',data=df,palette='rainbow');"
      ],
      "execution_count": null,
      "outputs": [
        {
          "output_type": "display_data",
          "data": {
            "image/png": "[encoded data removed]",
            "text/plain": [
              "<Figure size 432x288 with 1 Axes>"
            ]
          },
          "metadata": {
            "tags": []
          }
        }
      ]
    },
    {
      "cell_type": "code",
      "metadata": {
        "colab": {
          "base_uri": "https://localhost:8080/",
          "height": 279
        },
        "id": "KTMJF4dQRpcL",
        "outputId": "2fb70def-6849-4281-d8ff-330e01957c75"
      },
      "source": [
        "#The plot depicts that there 2 categories in Furnishing i.e. Unfurnished, Furnished\n",
        "\n",
        "sns.set_style('dark')\n",
        "sns.countplot(x='Furnishing',data=df,palette='cubehelix');"
      ],
      "execution_count": null,
      "outputs": [
        {
          "output_type": "display_data",
          "data": {
            "image/png": "[encoded data removed]",
            "text/plain": [
              "<Figure size 432x288 with 1 Axes>"
            ]
          },
          "metadata": {
            "tags": []
          }
        }
      ]
    },
    {
      "cell_type": "code",
      "metadata": {
        "colab": {
          "base_uri": "https://localhost:8080/",
          "height": 397
        },
        "id": "xhCIpen9OwjD",
        "outputId": "c076b6d0-b573-42f4-f932-77ff3dc2a34f"
      },
      "source": [
        "# Specified Price range 25 to 50 Lacs and printing it's first 5 values \n",
        "\n",
        "df_property_range = df[(df['Price(L)'] >= 25.00) & (df['Price(L)'] <= 50.00)]\n",
        "df_property_range.head()"
      ],
      "execution_count": null,
      "outputs": [
        {
          "output_type": "execute_result",
          "data": {
            "text/html": [
              "<div>\n",
              "<style scoped>\n",
              "    .dataframe tbody tr th:only-of-type {\n",
              "        vertical-align: middle;\n",
              "    }\n",
              "\n",
              "    .dataframe tbody tr th {\n",
              "        vertical-align: top;\n",
              "    }\n",
              "\n",
              "    .dataframe thead th {\n",
              "        text-align: right;\n",
              "    }\n",
              "</style>\n",
              "<table border=\"1\" class=\"dataframe\">\n",
              "  <thead>\n",
              "    <tr style=\"text-align: right;\">\n",
              "      <th></th>\n",
              "      <th>Property Overview</th>\n",
              "      <th>Area</th>\n",
              "      <th>BHK</th>\n",
              "      <th>Locality</th>\n",
              "      <th>Status</th>\n",
              "      <th>Floor</th>\n",
              "      <th>Transaction</th>\n",
              "      <th>Furnishing</th>\n",
              "      <th>Facing</th>\n",
              "      <th>Overlooking</th>\n",
              "      <th>Society</th>\n",
              "      <th>Car parking</th>\n",
              "      <th>Bathroom</th>\n",
              "      <th>Ownership</th>\n",
              "      <th>Price(L)</th>\n",
              "      <th>Builder</th>\n",
              "    </tr>\n",
              "  </thead>\n",
              "  <tbody>\n",
              "    <tr>\n",
              "      <th>2</th>\n",
              "      <td>2 BHK Apartment</td>\n",
              "      <td>650 sqft carpet area</td>\n",
              "      <td>2</td>\n",
              "      <td>Sky Sol,South Bopal, Bopal</td>\n",
              "      <td>Ready to Move</td>\n",
              "      <td>9 out of 13 floors floor</td>\n",
              "      <td>Resale</td>\n",
              "      <td>Furnished</td>\n",
              "      <td>East</td>\n",
              "      <td>Main Road</td>\n",
              "      <td>Sky Sol</td>\n",
              "      <td>1 Covered</td>\n",
              "      <td>2</td>\n",
              "      <td>Freehold</td>\n",
              "      <td>49.5</td>\n",
              "      <td>Resolute Property Solution</td>\n",
              "    </tr>\n",
              "    <tr>\n",
              "      <th>16</th>\n",
              "      <td>2 BHK Apartment</td>\n",
              "      <td>847 sqft carpet area</td>\n",
              "      <td>2</td>\n",
              "      <td>Savvy Swaraj,Jagatpur</td>\n",
              "      <td>Ready to Move</td>\n",
              "      <td>3 out of 13 floors floor</td>\n",
              "      <td>Resale</td>\n",
              "      <td>Unfurnished</td>\n",
              "      <td>North - East</td>\n",
              "      <td>Garden/Park, Pool, Main Road</td>\n",
              "      <td>Savvy Swaraj</td>\n",
              "      <td>1 Open</td>\n",
              "      <td>2</td>\n",
              "      <td>Freehold</td>\n",
              "      <td>44.0</td>\n",
              "      <td>The Propking Realty</td>\n",
              "    </tr>\n",
              "    <tr>\n",
              "      <th>20</th>\n",
              "      <td>2 BHK Apartment</td>\n",
              "      <td>Nan</td>\n",
              "      <td>2</td>\n",
              "      <td>Sarvesh,Ranip</td>\n",
              "      <td>Nan</td>\n",
              "      <td>Nan</td>\n",
              "      <td>New Property</td>\n",
              "      <td>Unfurnished</td>\n",
              "      <td>Nan</td>\n",
              "      <td>Nan</td>\n",
              "      <td>Sarvesh</td>\n",
              "      <td>Nan</td>\n",
              "      <td>2</td>\n",
              "      <td>Nan</td>\n",
              "      <td>38.6</td>\n",
              "      <td>Bakeri Group</td>\n",
              "    </tr>\n",
              "    <tr>\n",
              "      <th>21</th>\n",
              "      <td>3 BHK Apartment</td>\n",
              "      <td>Nan</td>\n",
              "      <td>3</td>\n",
              "      <td>Suryam Ananta,Vastral</td>\n",
              "      <td>Possession by Jun '24</td>\n",
              "      <td>Nan</td>\n",
              "      <td>New Property</td>\n",
              "      <td>Unfurnished</td>\n",
              "      <td>Nan</td>\n",
              "      <td>Nan</td>\n",
              "      <td>Suryam Ananta</td>\n",
              "      <td>Nan</td>\n",
              "      <td>3</td>\n",
              "      <td>Nan</td>\n",
              "      <td>45.7</td>\n",
              "      <td>Suryam Group</td>\n",
              "    </tr>\n",
              "    <tr>\n",
              "      <th>24</th>\n",
              "      <td>3 BHK Apartment</td>\n",
              "      <td>721 sqft carpet area</td>\n",
              "      <td>3</td>\n",
              "      <td>Vaishno Devi</td>\n",
              "      <td>Possession by Jun '23</td>\n",
              "      <td>2 out of 12 floors floor</td>\n",
              "      <td>New Property</td>\n",
              "      <td>Unfurnished</td>\n",
              "      <td>East</td>\n",
              "      <td>Main Road</td>\n",
              "      <td>Nan</td>\n",
              "      <td>1 Covered</td>\n",
              "      <td>2</td>\n",
              "      <td>Freehold</td>\n",
              "      <td>49.0</td>\n",
              "      <td>Ganesh Housing Corporation Ltd.</td>\n",
              "    </tr>\n",
              "  </tbody>\n",
              "</table>\n",
              "</div>"
            ],
            "text/plain": [
              "   Property Overview  ...                          Builder\n",
              "2    2 BHK Apartment  ...       Resolute Property Solution\n",
              "16   2 BHK Apartment  ...              The Propking Realty\n",
              "20   2 BHK Apartment  ...                     Bakeri Group\n",
              "21   3 BHK Apartment  ...                     Suryam Group\n",
              "24   3 BHK Apartment  ...  Ganesh Housing Corporation Ltd.\n",
              "\n",
              "[5 rows x 16 columns]"
            ]
          },
          "metadata": {
            "tags": []
          },
          "execution_count": 203
        }
      ]
    },
    {
      "cell_type": "code",
      "metadata": {
        "colab": {
          "base_uri": "https://localhost:8080/"
        },
        "id": "aBgblz2ARCca",
        "outputId": "f911fb31-7ab9-4857-9152-f791c569d748"
      },
      "source": [
        "## Displayed the filtered properties that is 25 from 150\n",
        "\n",
        "df_property_range.shape"
      ],
      "execution_count": null,
      "outputs": [
        {
          "output_type": "execute_result",
          "data": {
            "text/plain": [
              "(25, 16)"
            ]
          },
          "metadata": {
            "tags": []
          },
          "execution_count": 147
        }
      ]
    },
    {
      "cell_type": "code",
      "metadata": {
        "colab": {
          "base_uri": "https://localhost:8080/",
          "height": 278
        },
        "id": "-PJID1nNqzCJ",
        "outputId": "1824e912-92f6-48ed-e98a-6f8176baa339"
      },
      "source": [
        "df_low_property = df_property_range['Price(L)'].value_counts()\n",
        "df_low_property.plot.bar();"
      ],
      "execution_count": null,
      "outputs": [
        {
          "output_type": "display_data",
          "data": {
            "image/png": "[encoded data removed]",
            "text/plain": [
              "<Figure size 432x288 with 1 Axes>"
            ]
          },
          "metadata": {
            "tags": []
          }
        }
      ]
    },
    {
      "cell_type": "code",
      "metadata": {
        "colab": {
          "base_uri": "https://localhost:8080/",
          "height": 319
        },
        "id": "6fm-nPIpafa9",
        "outputId": "11b7112b-6b6a-4298-edba-d9202f7122ef"
      },
      "source": [
        "## Pie chart\n",
        "\n",
        "fig, ax = plt.subplots(figsize=(10, 5), subplot_kw=dict(aspect=\"equal\"))\n",
        "explode = (0.1,0.1,0.1,0.1,0.1,0.1,0.1,0.1)\n",
        "labels = df['Price(L)'].head(8)\n",
        "plt.pie(df['Price(L)'].value_counts().head(8), explode, labels=labels, shadow=True, autopct='%1.1f%%');\n",
        "ax.set_title(\"Property Prices (L)\")\n",
        "plt.show();"
      ],
      "execution_count": null,
      "outputs": [
        {
          "output_type": "display_data",
          "data": {
            "image/png": "[encoded data removed]",
            "text/plain": [
              "<Figure size 720x360 with 1 Axes>"
            ]
          },
          "metadata": {
            "tags": []
          }
        }
      ]
    },
    {
      "cell_type": "code",
      "metadata": {
        "colab": {
          "base_uri": "https://localhost:8080/",
          "height": 406
        },
        "id": "DEgrb4TAhUDM",
        "outputId": "04cf9cca-025e-43bb-874a-c957429124bc"
      },
      "source": [
        "## Society wise bar\n",
        "\n",
        "df_Society = df['Society'].value_counts()\n",
        "df_Society.plot.bar()"
      ],
      "execution_count": null,
      "outputs": [
        {
          "output_type": "execute_result",
          "data": {
            "text/plain": [
              "<matplotlib.axes._subplots.AxesSubplot at 0x7f468af67dd0>"
            ]
          },
          "metadata": {
            "tags": []
          },
          "execution_count": 240
        },
        {
          "output_type": "display_data",
          "data": {
            "image/png": "[encoded data removed]",
            "text/plain": [
              "<Figure size 432x288 with 1 Axes>"
            ]
          },
          "metadata": {
            "tags": []
          }
        }
      ]
    },
    {
      "cell_type": "code",
      "metadata": {
        "colab": {
          "base_uri": "https://localhost:8080/",
          "height": 397
        },
        "id": "vjxMbF9UjoPi",
        "outputId": "5719a722-5b21-42ac-a36d-9420e1e201e1"
      },
      "source": [
        "## Property vs price\n",
        "\n",
        "fig, ax = plt.subplots(figsize=(10, 5))\n",
        "sns.boxplot(y='Price(L)', x='Property Overview', data=df, ax=ax)\n",
        "ax.set_xticklabels(ax.get_xticklabels(), rotation=50, ha='right')\n",
        "plt.show()"
      ],
      "execution_count": null,
      "outputs": [
        {
          "output_type": "display_data",
          "data": {
            "image/png": "[encoded data removed]",
            "text/plain": [
              "<Figure size 720x360 with 1 Axes>"
            ]
          },
          "metadata": {
            "tags": []
          }
        }
      ]
    },
    {
      "cell_type": "code",
      "metadata": {
        "colab": {
          "base_uri": "https://localhost:8080/",
          "height": 457
        },
        "id": "0gq5nbaflTvw",
        "outputId": "8b15f3f1-5ad3-46ee-e8cd-ebc6c8d6212c"
      },
      "source": [
        "sns.jointplot(y='Price(L)', x='Property Overview', data=df)"
      ],
      "execution_count": null,
      "outputs": [
        {
          "output_type": "execute_result",
          "data": {
            "text/plain": [
              "<seaborn.axisgrid.JointGrid at 0x7f468aad7b50>"
            ]
          },
          "metadata": {
            "tags": []
          },
          "execution_count": 242
        },
        {
          "output_type": "display_data",
          "data": {
            "image/png": "[encoded data removed]",
            "text/plain": [
              "<Figure size 432x432 with 3 Axes>"
            ]
          },
          "metadata": {
            "tags": []
          }
        }
      ]
    },
    {
      "cell_type": "code",
      "metadata": {
        "colab": {
          "base_uri": "https://localhost:8080/",
          "height": 337
        },
        "id": "QX4-NB7Slj7v",
        "outputId": "c9ffc9bf-fef4-4fbc-c522-b681184362c1"
      },
      "source": [
        "fig, ax = plt.subplots(figsize=(10, 5))\n",
        "sns.boxplot(y='Price(L)', x='BHK', data=df, ax=ax)\n",
        "ax.set_xticklabels(ax.get_xticklabels(), rotation=50, ha='right')\n",
        "plt.show()"
      ],
      "execution_count": null,
      "outputs": [
        {
          "output_type": "display_data",
          "data": {
            "image/png": "[encoded data removed]",
            "text/plain": [
              "<Figure size 720x360 with 1 Axes>"
            ]
          },
          "metadata": {
            "tags": []
          }
        }
      ]
    },
    {
      "cell_type": "code",
      "metadata": {
        "colab": {
          "base_uri": "https://localhost:8080/",
          "height": 197
        },
        "id": "lsi08WNWlqUk",
        "outputId": "776813ba-e77f-48c8-ade0-e4343994ab40"
      },
      "source": [
        "sns.pairplot(df,kind='reg');"
      ],
      "execution_count": null,
      "outputs": [
        {
          "output_type": "display_data",
          "data": {
            "image/png": "[encoded data removed]",
            "text/plain": [
              "<Figure size 180x180 with 2 Axes>"
            ]
          },
          "metadata": {
            "tags": []
          }
        }
      ]
    }
  ]
}